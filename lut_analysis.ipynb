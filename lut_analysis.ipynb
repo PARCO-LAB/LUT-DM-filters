{
 "cells": [
  {
   "cell_type": "markdown",
   "metadata": {},
   "source": [
    "### MICRO-BENCHMARKING"
   ]
  },
  {
   "cell_type": "code",
   "execution_count": 1,
   "metadata": {},
   "outputs": [],
   "source": [
    "import matplotlib.pyplot as plt\n",
    "from scipy import stats\n",
    "import pandas as pd\n",
    "import numpy as np"
   ]
  },
  {
   "cell_type": "markdown",
   "metadata": {},
   "source": [
    "In micro_max.csv is contained the data of the noisy (16, 20, 25, 30) trainset of H36M made up by the oracle."
   ]
  },
  {
   "cell_type": "code",
   "execution_count": 17,
   "metadata": {},
   "outputs": [
    {
     "name": "stderr",
     "output_type": "stream",
     "text": [
      "/tmp/ipykernel_4023668/2691541858.py:6: FutureWarning: The default of observed=False is deprecated and will be changed to True in a future version of pandas. Pass observed=False to retain current behavior or observed=True to adopt the future default and silence this warning.\n",
      "  grouped = df.groupby('in_out_bins')\n"
     ]
    }
   ],
   "source": [
    "df = pd.read_csv('checkpoints/micro_max.csv')\n",
    "\n",
    "bins = np.arange(df['mpjpe_in_out50'].min(), df['mpjpe_in_out50'].max() + 51, 20)\n",
    "df['in_out_bins'] = pd.cut(df['mpjpe_in_out50'], bins, right=False)\n",
    "\n",
    "grouped = df.groupby('in_out_bins')\n",
    "\n",
    "list_in_gt = []\n",
    "list_in_gt_std = []\n",
    "list_inout = []\n",
    "list_inout_std = []\n",
    "\n",
    "interval = []\n",
    "mode = []\n",
    "\n",
    "for index,i in enumerate(grouped):\n",
    "    m = stats.mode(i[1]['best_step'])\n",
    "    interval.append((index,(i[0].left, i[0].right)))\n",
    "    mode.append(m)\n",
    "\n",
    "index = [tupla[0] for tupla in interval]\n",
    "label = [str(tupla[1]) for tupla in interval]\n",
    "mode_step = [m.mode for m in mode]\n",
    "mode_count = [str(m.count) for m in mode]"
   ]
  },
  {
   "cell_type": "code",
   "execution_count": 15,
   "metadata": {},
   "outputs": [
    {
     "name": "stdout",
     "output_type": "stream",
     "text": [
      "[(41.158, 61.158, 8), (61.158, 81.158, 8), (81.158, 101.158, 7), (101.158, 121.158, 8), (121.158, 141.158, 19), (141.158, 161.158, 50), (161.158, 181.158, 50), (181.158, 201.158, 50), (201.158, 221.158, 50), (221.158, 241.158, 50), (241.158, 261.158, 50), (261.158, 281.158, 50), (281.158, 301.158, 50), (301.158, 321.158, 50), (321.158, 341.158, 50), (341.158, 361.158, 50), (361.158, 381.158, 50), (381.158, 401.158, 50), (401.158, 421.158, nan)]\n"
     ]
    },
    {
     "data": {
      "text/html": [
       "<div>\n",
       "<style scoped>\n",
       "    .dataframe tbody tr th:only-of-type {\n",
       "        vertical-align: middle;\n",
       "    }\n",
       "\n",
       "    .dataframe tbody tr th {\n",
       "        vertical-align: top;\n",
       "    }\n",
       "\n",
       "    .dataframe thead th {\n",
       "        text-align: right;\n",
       "    }\n",
       "</style>\n",
       "<table border=\"1\" class=\"dataframe\">\n",
       "  <thead>\n",
       "    <tr style=\"text-align: right;\">\n",
       "      <th></th>\n",
       "      <th>start_bin</th>\n",
       "      <th>end_bin</th>\n",
       "      <th>step</th>\n",
       "    </tr>\n",
       "  </thead>\n",
       "  <tbody>\n",
       "    <tr>\n",
       "      <th>0</th>\n",
       "      <td>0.000</td>\n",
       "      <td>61.158</td>\n",
       "      <td>8</td>\n",
       "    </tr>\n",
       "    <tr>\n",
       "      <th>1</th>\n",
       "      <td>61.158</td>\n",
       "      <td>81.158</td>\n",
       "      <td>8</td>\n",
       "    </tr>\n",
       "    <tr>\n",
       "      <th>2</th>\n",
       "      <td>81.158</td>\n",
       "      <td>101.158</td>\n",
       "      <td>7</td>\n",
       "    </tr>\n",
       "    <tr>\n",
       "      <th>3</th>\n",
       "      <td>101.158</td>\n",
       "      <td>121.158</td>\n",
       "      <td>8</td>\n",
       "    </tr>\n",
       "    <tr>\n",
       "      <th>4</th>\n",
       "      <td>121.158</td>\n",
       "      <td>141.158</td>\n",
       "      <td>19</td>\n",
       "    </tr>\n",
       "    <tr>\n",
       "      <th>5</th>\n",
       "      <td>141.158</td>\n",
       "      <td>inf</td>\n",
       "      <td>50</td>\n",
       "    </tr>\n",
       "  </tbody>\n",
       "</table>\n",
       "</div>"
      ],
      "text/plain": [
       "   start_bin  end_bin  step\n",
       "0      0.000   61.158     8\n",
       "1     61.158   81.158     8\n",
       "2     81.158  101.158     7\n",
       "3    101.158  121.158     8\n",
       "4    121.158  141.158    19\n",
       "5    141.158      inf    50"
      ]
     },
     "execution_count": 15,
     "metadata": {},
     "output_type": "execute_result"
    }
   ],
   "source": [
    "mode_step\n",
    "interval\n",
    "\n",
    "start_bin = [i[1][0] for i in interval]\n",
    "end_bin = [i[1][1] for i in interval]\n",
    "step = mode_step\n",
    "print(list(zip(start_bin, end_bin,step)))\n",
    "df = pd.DataFrame({'start_bin':start_bin, 'end_bin':end_bin, 'step':step})\n",
    "df['start_bin'].loc[0] = 0\n",
    "df['end_bin'].loc[5] = np.inf\n",
    "df = df.drop(list(range(6,19)))\n",
    "df['step'] = df['step'].astype(int)\n",
    "#df.to_csv('lut.csv')\n",
    "df"
   ]
  }
 ],
 "metadata": {
  "kernelspec": {
   "display_name": "ddpm",
   "language": "python",
   "name": "ddpm"
  },
  "language_info": {
   "codemirror_mode": {
    "name": "ipython",
    "version": 3
   },
   "file_extension": ".py",
   "mimetype": "text/x-python",
   "name": "python",
   "nbconvert_exporter": "python",
   "pygments_lexer": "ipython3",
   "version": "3.10.12"
  }
 },
 "nbformat": 4,
 "nbformat_minor": 2
}
